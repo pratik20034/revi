{
  "cells": [
    {
      "cell_type": "markdown",
      "metadata": {
        "id": "view-in-github",
        "colab_type": "text"
      },
      "source": [
        "<a href=\"https://colab.research.google.com/github/pratik20034/revi/blob/main/Cross_validation.ipynb\" target=\"_parent\"><img src=\"https://colab.research.google.com/assets/colab-badge.svg\" alt=\"Open In Colab\"/></a>"
      ]
    },
    {
      "cell_type": "markdown",
      "source": [
        "Importing the libraries"
      ],
      "metadata": {
        "id": "endRkO6pDebH"
      }
    },
    {
      "cell_type": "code",
      "source": [
        "import numpy as np\n",
        "import pandas as pd"
      ],
      "metadata": {
        "id": "ECdmQjC1DmHN"
      },
      "execution_count": null,
      "outputs": []
    },
    {
      "cell_type": "markdown",
      "source": [
        "Import dataset"
      ],
      "metadata": {
        "id": "o4C1OWxbD9ha"
      }
    },
    {
      "cell_type": "code",
      "source": [
        "a = pd.read_csv('Cancer_data.csv')\n",
        "x = a.iloc[:,2:-1]\n",
        "y = a.iloc[:,1]\n",
        "a.head()\n",
        "x.head()\n",
        "y.value_counts()"
      ],
      "metadata": {
        "id": "STCwUqh2EBn3",
        "outputId": "2cf432c2-1704-4146-a2c3-2e7cc3b72c98",
        "colab": {
          "base_uri": "https://localhost:8080/"
        }
      },
      "execution_count": null,
      "outputs": [
        {
          "output_type": "execute_result",
          "data": {
            "text/plain": [
              "B    357\n",
              "M    212\n",
              "Name: diagnosis, dtype: int64"
            ]
          },
          "metadata": {},
          "execution_count": 2
        }
      ]
    },
    {
      "cell_type": "markdown",
      "source": [
        "Hold out validation approach train test split"
      ],
      "metadata": {
        "id": "Z69nTuG4EnFt"
      }
    },
    {
      "cell_type": "code",
      "source": [
        "from pandas.core.algorithms import mode\n",
        "from sklearn.tree import DecisionTreeClassifier\n",
        "from sklearn.model_selection import train_test_split\n",
        "x_train,x_test,y_train,y_test = train_test_split(x,y,test_size = 0.30, random_state = 0)\n",
        "model = DecisionTreeClassifier()\n",
        "model.fit(x_train,y_train)\n",
        "result = model.score(x_test, y_test)\n",
        "print(result)\n",
        "      \n"
      ],
      "metadata": {
        "id": "c0IRDMvgEq6Z",
        "outputId": "8a9495e5-12b6-4e36-eae0-ab07b830aa67",
        "colab": {
          "base_uri": "https://localhost:8080/"
        }
      },
      "execution_count": null,
      "outputs": [
        {
          "output_type": "stream",
          "name": "stdout",
          "text": [
            "0.9064327485380117\n"
          ]
        }
      ]
    },
    {
      "cell_type": "code",
      "source": [
        "from sklearn.model_selection import KFold\n",
        "model = DecisionTreeClassifier()\n",
        "KFold_Validation = KFold(10)\n"
      ],
      "metadata": {
        "id": "tDobw527FbbA"
      },
      "execution_count": null,
      "outputs": []
    },
    {
      "cell_type": "code",
      "source": [
        "from sklearn.model_selection import cross_val_score\n",
        "results = cross_val_score(model,x,y,cv = KFold_Validation)\n",
        "print(results)\n",
        "print(np.mean(results))"
      ],
      "metadata": {
        "colab": {
          "base_uri": "https://localhost:8080/"
        },
        "id": "bDxexQgv_r-g",
        "outputId": "4c4a828c-480a-44bd-f608-28dfa1c18cf0"
      },
      "execution_count": null,
      "outputs": [
        {
          "output_type": "stream",
          "name": "stdout",
          "text": [
            "[0.94736842 0.9122807  0.87719298 0.94736842 0.92982456 0.96491228\n",
            " 0.9122807  0.94736842 0.9122807  0.94642857]\n",
            "0.9297305764411027\n"
          ]
        }
      ]
    },
    {
      "cell_type": "markdown",
      "source": [
        "Leave one out cross valadation(LOOCV)"
      ],
      "metadata": {
        "id": "iXbJf9f5KLrI"
      }
    },
    {
      "cell_type": "code",
      "source": [
        "from sklearn.model_selection import LeaveOneOut\n",
        "model = DecisionTreeClassifier()\n",
        "leave_validation = LeaveOneOut()\n",
        "results = cross_val_score(model,x,y,cv = leave_validation)\n",
        "print(np.mean(results))\n"
      ],
      "metadata": {
        "id": "bf0zw5SjFUf9",
        "colab": {
          "base_uri": "https://localhost:8080/"
        },
        "outputId": "b6667a8b-817c-462d-cfb0-9130572e1998"
      },
      "execution_count": null,
      "outputs": [
        {
          "output_type": "stream",
          "name": "stdout",
          "text": [
            "0.9209138840070299\n"
          ]
        }
      ]
    }
  ],
  "metadata": {
    "colab": {
      "provenance": [],
      "include_colab_link": true
    },
    "kernelspec": {
      "display_name": "Python 3",
      "name": "python3"
    }
  },
  "nbformat": 4,
  "nbformat_minor": 0
}